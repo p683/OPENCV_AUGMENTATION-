{
 "cells": [
  {
   "cell_type": "markdown",
   "metadata": {},
   "source": [
    "### Scrapping the data using the amazon url "
   ]
  },
  {
   "cell_type": "markdown",
   "metadata": {},
   "source": [
    "### While Scarpping the Images , do not close the chrome else it will show error"
   ]
  },
  {
   "cell_type": "code",
   "execution_count": 1,
   "metadata": {},
   "outputs": [
    {
     "name": "stdout",
     "output_type": "stream",
     "text": [
      "https://m.media-amazon.com/images/I/812PAc9ZtgL._AC_UL320_.jpg\n",
      "loop break\n",
      "https://m.media-amazon.com/images/I/71xAlK1o9PL._AC_UL320_.jpg\n",
      "loop break\n",
      "https://m.media-amazon.com/images/I/61PgNzx29JL._AC_UL320_.jpg\n",
      "loop break\n",
      "https://m.media-amazon.com/images/I/81B2lpeXmtL._AC_UL320_.jpg\n",
      "loop break\n",
      "https://m.media-amazon.com/images/I/51CUp-dt2cL._AC_UL320_.jpg\n",
      "loop break\n",
      "https://m.media-amazon.com/images/I/61KwCbPkOyL._AC_UL320_.jpg\n",
      "loop break\n",
      "https://m.media-amazon.com/images/I/81v3IBzs2XL._AC_UL320_.jpg\n",
      "loop break\n",
      "https://m.media-amazon.com/images/I/71jfz6ObDfL._AC_UL320_.jpg\n",
      "loop break\n",
      "https://m.media-amazon.com/images/I/613aUOVUTyL._AC_UL320_.jpg\n",
      "loop break\n",
      "https://m.media-amazon.com/images/I/81lcXZEZO6L._AC_UL320_.jpg\n",
      "loop break\n",
      "https://m.media-amazon.com/images/I/815XWTDBrsL._AC_UL320_.jpg\n",
      "loop break\n",
      "https://m.media-amazon.com/images/I/71yXjuYYh6L._AC_UL320_.jpg\n",
      "loop break\n",
      "https://m.media-amazon.com/images/I/71mf9aWSsBL._AC_UL320_.jpg\n",
      "loop break\n",
      "https://m.media-amazon.com/images/I/81SicEJdQRL._AC_UL320_.jpg\n",
      "loop break\n",
      "https://m.media-amazon.com/images/I/81Ezg8i6ygL._AC_UL320_.jpg\n",
      "loop break\n",
      "https://m.media-amazon.com/images/I/816svvB++ML._AC_UL320_.jpg\n",
      "loop break\n",
      "https://m.media-amazon.com/images/I/81uvkn6ySOL._AC_UL320_.jpg\n",
      "loop break\n",
      "https://m.media-amazon.com/images/I/61XcllvNz1L._AC_UL320_.jpg\n",
      "loop break\n",
      "https://m.media-amazon.com/images/I/71tahJ8s6sL._AC_UL320_.jpg\n",
      "loop break\n",
      "https://m.media-amazon.com/images/I/61C0rMJ2LOL._AC_UL320_.jpg\n",
      "loop break\n",
      "https://m.media-amazon.com/images/I/71vuw0Y+92L._AC_UL320_.jpg\n",
      "loop break\n",
      "https://m.media-amazon.com/images/I/6184Tg0LjEL._AC_UL320_.jpg\n",
      "loop break\n",
      "https://m.media-amazon.com/images/I/81bzTkPk8pL._AC_UL320_.jpg\n",
      "loop break\n",
      "https://m.media-amazon.com/images/I/71dH0MrwlmL._AC_UL320_.jpg\n",
      "loop break\n",
      "https://m.media-amazon.com/images/I/51h-vw7DCRL._AC_UL320_.jpg\n",
      "loop break\n",
      "https://m.media-amazon.com/images/I/81eRokzB3aL._AC_UL320_.jpg\n",
      "loop break\n",
      "https://m.media-amazon.com/images/I/5110kq2LCFL._AC_UL320_.jpg\n",
      "loop break\n",
      "https://m.media-amazon.com/images/I/7160AxFQOvL._AC_UL320_.jpg\n",
      "loop break\n",
      "https://m.media-amazon.com/images/I/71FtSdi8NPL._AC_UL320_.jpg\n",
      "loop break\n",
      "https://m.media-amazon.com/images/I/91Khr+CEGmL._AC_UL320_.jpg\n",
      "loop break\n",
      "https://m.media-amazon.com/images/I/713sRhQ2pNL._AC_UL320_.jpg\n",
      "loop break\n",
      "https://m.media-amazon.com/images/I/61NKxXc+lIL._AC_UL320_.jpg\n",
      "loop break\n",
      "https://m.media-amazon.com/images/I/81uMFi1t1qL._AC_UL320_.jpg\n",
      "loop break\n",
      "https://m.media-amazon.com/images/I/81t3XS8UciL._AC_UL320_.jpg\n",
      "loop break\n",
      "https://m.media-amazon.com/images/I/81YNp05PRsL._AC_UL320_.jpg\n",
      "loop break\n",
      "https://m.media-amazon.com/images/I/61LV5OG--oL._AC_UL320_.jpg\n",
      "loop break\n",
      "https://m.media-amazon.com/images/I/810LLDqT7XL._AC_UL320_.jpg\n",
      "loop break\n",
      "https://m.media-amazon.com/images/I/71v+kTI-nML._AC_UL320_.jpg\n",
      "loop break\n",
      "https://m.media-amazon.com/images/I/918u9FjqK0L._AC_UL320_.jpg\n",
      "loop break\n",
      "https://m.media-amazon.com/images/I/81IiXozs9UL._AC_UL320_.jpg\n",
      "loop break\n",
      "https://m.media-amazon.com/images/I/81zh36QEztL._AC_UL320_.jpg\n",
      "loop break\n",
      "https://m.media-amazon.com/images/I/A1RutrV3ivL._AC_UL320_.jpg\n",
      "loop break\n",
      "https://m.media-amazon.com/images/I/71prS1CMp9L._AC_UL320_.jpg\n",
      "loop break\n",
      "https://m.media-amazon.com/images/I/71Pr5oH5ftL._AC_UL320_.jpg\n",
      "loop break\n",
      "https://m.media-amazon.com/images/I/810bBm6koOL._AC_UL320_.jpg\n",
      "loop break\n"
     ]
    }
   ],
   "source": [
    "from selenium import webdriver\n",
    "from bs4 import BeautifulSoup\n",
    "import random\n",
    "import urllib.request\n",
    "\n",
    "browser=webdriver.Chrome(\"C:/chromedriver.exe\")\n",
    "browser.get('https://www.amazon.in/s?k=trousers+for+men&page=1')\n",
    "\n",
    "# soup=BeautifulSoup(browser.page_source)\n",
    "html = browser.page_source\n",
    "soup = BeautifulSoup(html)\n",
    "\n",
    "\n",
    "#do something useful\n",
    "#prints all the links with corresponding text\n",
    "all_images = []\n",
    "for link in soup.find_all('div',{\"data-component-type\":\"s-search-result\"},limit=45):\n",
    "    href = link.img['src']\n",
    "    print(href)\n",
    "    \n",
    "    img_name = random.randrange(1,50)\n",
    "    \n",
    "    full_name = str(img_name) + \".jpg\"\n",
    "    \n",
    "    urllib.request.urlretrieve(href, full_name)\n",
    "    \n",
    "    print(\"loop break\")\n",
    "       \n",
    "# .get('src'),link.get_text()"
   ]
  },
  {
   "cell_type": "code",
   "execution_count": 2,
   "metadata": {},
   "outputs": [],
   "source": [
    "### For Getting the Images Like wise for Saree and trouser\n",
    "url_saree = \"https://www.amazon.in/s?k=saree+for+women&page=1\"\n",
    "url_jeans = \"https://www.amazon.in/s?k=jeans+for+men&page=1\""
   ]
  },
  {
   "cell_type": "markdown",
   "metadata": {},
   "source": [
    "### For 100 Images of the categories , change the page number at the last of the url , and run the for loop again "
   ]
  },
  {
   "cell_type": "code",
   "execution_count": null,
   "metadata": {},
   "outputs": [],
   "source": []
  }
 ],
 "metadata": {
  "kernelspec": {
   "display_name": "Python 3",
   "language": "python",
   "name": "python3"
  },
  "language_info": {
   "codemirror_mode": {
    "name": "ipython",
    "version": 3
   },
   "file_extension": ".py",
   "mimetype": "text/x-python",
   "name": "python",
   "nbconvert_exporter": "python",
   "pygments_lexer": "ipython3",
   "version": "3.7.7"
  }
 },
 "nbformat": 4,
 "nbformat_minor": 4
}
