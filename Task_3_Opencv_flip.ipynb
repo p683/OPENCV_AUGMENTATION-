{
  "nbformat": 4,
  "nbformat_minor": 0,
  "metadata": {
    "colab": {
      "name": "Task_3_Opencv_flip.ipynb",
      "provenance": [],
      "collapsed_sections": []
    },
    "kernelspec": {
      "name": "python3",
      "display_name": "Python 3"
    },
    "accelerator": "GPU"
  },
  "cells": [
    {
      "cell_type": "code",
      "metadata": {
        "id": "n9aV95DXM_co",
        "colab_type": "code",
        "colab": {
          "base_uri": "https://localhost:8080/",
          "height": 122
        },
        "outputId": "5211b2fb-7a45-4075-bc66-c586adeb66e7"
      },
      "source": [
        "from google.colab import drive\n",
        "drive.mount('/content/gdrive')"
      ],
      "execution_count": 1,
      "outputs": [
        {
          "output_type": "stream",
          "text": [
            "Go to this URL in a browser: https://accounts.google.com/o/oauth2/auth?client_id=947318989803-6bn6qk8qdgf4n4g3pfee6491hc0brc4i.apps.googleusercontent.com&redirect_uri=urn%3aietf%3awg%3aoauth%3a2.0%3aoob&response_type=code&scope=email%20https%3a%2f%2fwww.googleapis.com%2fauth%2fdocs.test%20https%3a%2f%2fwww.googleapis.com%2fauth%2fdrive%20https%3a%2f%2fwww.googleapis.com%2fauth%2fdrive.photos.readonly%20https%3a%2f%2fwww.googleapis.com%2fauth%2fpeopleapi.readonly\n",
            "\n",
            "Enter your authorization code:\n",
            "··········\n",
            "Mounted at /content/gdrive\n"
          ],
          "name": "stdout"
        }
      ]
    },
    {
      "cell_type": "code",
      "metadata": {
        "id": "q_5w7L20OVE5",
        "colab_type": "code",
        "colab": {
          "base_uri": "https://localhost:8080/",
          "height": 68
        },
        "outputId": "7d45cfc9-92d3-4c28-bb1f-4b2ea44f5ed1"
      },
      "source": [
        "%tensorflow_version 1.x\n",
        "import tensorflow as tf\n",
        "print(tf.__version__)\n",
        "from keras import backend as K"
      ],
      "execution_count": 2,
      "outputs": [
        {
          "output_type": "stream",
          "text": [
            "TensorFlow 1.x selected.\n",
            "1.15.2\n"
          ],
          "name": "stdout"
        },
        {
          "output_type": "stream",
          "text": [
            "Using TensorFlow backend.\n"
          ],
          "name": "stderr"
        }
      ]
    },
    {
      "cell_type": "code",
      "metadata": {
        "id": "3LJAmRdZOVIM",
        "colab_type": "code",
        "colab": {}
      },
      "source": [
        "import numpy as np # linear algebra\n",
        "import pandas as pd # data processing, CSV file I/O (e.g. pd.read_csv)\n",
        "import matplotlib.pyplot as plt\n",
        "import matplotlib.image as mpimg\n",
        "%matplotlib inline\n",
        "\n",
        "import tensorflow as tf\n",
        "import keras \n",
        "from tensorflow.keras.preprocessing.image import ImageDataGenerator\n",
        "from tensorflow.keras.preprocessing.image import img_to_array, load_img\n",
        "from keras.models import Sequential\n",
        "from keras.layers import Dense, Dropout, Flatten\n",
        "from keras.layers import Conv2D, MaxPooling2D\n",
        "import random"
      ],
      "execution_count": 3,
      "outputs": []
    },
    {
      "cell_type": "code",
      "metadata": {
        "id": "xX3Ct4LzVEIk",
        "colab_type": "code",
        "colab": {}
      },
      "source": [
        "batch_size = 32   # Batch size is required for backward Propogation \n",
        "num_classes = 3   # Classes are jeans , saree , trouser.\n",
        "epochs = 20\n",
        "nb_train_samples=400\n",
        "nb_validation_samples=60"
      ],
      "execution_count": 4,
      "outputs": []
    },
    {
      "cell_type": "code",
      "metadata": {
        "id": "gJSbhK8yOVLY",
        "colab_type": "code",
        "colab": {}
      },
      "source": [
        "# Specifying the Size of the Images\n",
        "input_shape=(150,150,3)\n",
        "img_width=150\n",
        "img_height=150"
      ],
      "execution_count": 5,
      "outputs": []
    },
    {
      "cell_type": "code",
      "metadata": {
        "id": "MdXoxvoyOVOl",
        "colab_type": "code",
        "colab": {}
      },
      "source": [
        "# Importing the data from the drive\n",
        "train_data_dir = \"/content/gdrive/My Drive/Dataset/Training Images\"\n",
        "# For the test set\n",
        "validation_data_dir = \"/content/gdrive/My Drive/Dataset/Testing Images\""
      ],
      "execution_count": 6,
      "outputs": []
    },
    {
      "cell_type": "markdown",
      "metadata": {
        "id": "I3S1r8wQS0Bc",
        "colab_type": "text"
      },
      "source": [
        " Rescaling the Input Images , Normalising it . \n",
        "Data Augmentaion Already done through opencv"
      ]
    },
    {
      "cell_type": "code",
      "metadata": {
        "id": "y3J07HpgSjVP",
        "colab_type": "code",
        "colab": {}
      },
      "source": [
        "training_datagen = ImageDataGenerator(\n",
        "    rescale = 1./255)\n",
        "validation_datagen = ImageDataGenerator(rescale = 1./255)"
      ],
      "execution_count": 7,
      "outputs": []
    },
    {
      "cell_type": "code",
      "metadata": {
        "id": "UJTBmMtcOVRP",
        "colab_type": "code",
        "colab": {
          "base_uri": "https://localhost:8080/",
          "height": 51
        },
        "outputId": "f7bd3e94-e3a2-4269-b22a-9786ca19c4fd"
      },
      "source": [
        "train_generator=training_datagen.flow_from_directory(\n",
        "         train_data_dir,\n",
        "         target_size=(img_width,img_height),\n",
        "         batch_size=32,\n",
        "         class_mode='categorical')\n",
        "\n",
        "validation_generator=validation_datagen.flow_from_directory(\n",
        "         validation_data_dir,\n",
        "         target_size=(img_width,img_height),\n",
        "         batch_size=32,\n",
        "         class_mode='categorical')"
      ],
      "execution_count": 8,
      "outputs": [
        {
          "output_type": "stream",
          "text": [
            "Found 416 images belonging to 3 classes.\n",
            "Found 60 images belonging to 3 classes.\n"
          ],
          "name": "stdout"
        }
      ]
    },
    {
      "cell_type": "markdown",
      "metadata": {
        "id": "LcoY94cnWcm2",
        "colab_type": "text"
      },
      "source": [
        "Building the Model."
      ]
    },
    {
      "cell_type": "code",
      "metadata": {
        "id": "2XDUiFtQOVUQ",
        "colab_type": "code",
        "colab": {
          "base_uri": "https://localhost:8080/",
          "height": 122
        },
        "outputId": "48b0cb24-494f-40df-c5d7-ebdd7002e548"
      },
      "source": [
        "model = Sequential()\n",
        "model.add(Conv2D(32, kernel_size=(3, 3),\n",
        "                 activation='relu',\n",
        "                 input_shape=input_shape))\n",
        "model.add(Conv2D(64, (3, 3), activation='relu'))\n",
        "model.add(MaxPooling2D(pool_size=(2, 2)))\n",
        "model.add(Dropout(0.25))\n",
        "#flatten layer\n",
        "model.add(Flatten()) # Output convert into one dimension layer and will go to Dense layer\n",
        "model.add(Dense(128, activation='relu'))\n",
        "model.add(Dropout(0.5))\n",
        "model.add(Dense(num_classes, activation='softmax'))"
      ],
      "execution_count": 9,
      "outputs": [
        {
          "output_type": "stream",
          "text": [
            "WARNING:tensorflow:From /tensorflow-1.15.2/python3.6/tensorflow_core/python/ops/resource_variable_ops.py:1630: calling BaseResourceVariable.__init__ (from tensorflow.python.ops.resource_variable_ops) with constraint is deprecated and will be removed in a future version.\n",
            "Instructions for updating:\n",
            "If using Keras pass *_constraint arguments to layers.\n",
            "WARNING:tensorflow:From /usr/local/lib/python3.6/dist-packages/keras/backend/tensorflow_backend.py:4070: The name tf.nn.max_pool is deprecated. Please use tf.nn.max_pool2d instead.\n",
            "\n"
          ],
          "name": "stdout"
        }
      ]
    },
    {
      "cell_type": "code",
      "metadata": {
        "id": "Y_H06VmIOVXr",
        "colab_type": "code",
        "colab": {
          "base_uri": "https://localhost:8080/",
          "height": 425
        },
        "outputId": "e7bb5c8c-ed6d-470f-8fae-3a5a477c86bb"
      },
      "source": [
        "model.summary()"
      ],
      "execution_count": 10,
      "outputs": [
        {
          "output_type": "stream",
          "text": [
            "Model: \"sequential_1\"\n",
            "_________________________________________________________________\n",
            "Layer (type)                 Output Shape              Param #   \n",
            "=================================================================\n",
            "conv2d_1 (Conv2D)            (None, 148, 148, 32)      896       \n",
            "_________________________________________________________________\n",
            "conv2d_2 (Conv2D)            (None, 146, 146, 64)      18496     \n",
            "_________________________________________________________________\n",
            "max_pooling2d_1 (MaxPooling2 (None, 73, 73, 64)        0         \n",
            "_________________________________________________________________\n",
            "dropout_1 (Dropout)          (None, 73, 73, 64)        0         \n",
            "_________________________________________________________________\n",
            "flatten_1 (Flatten)          (None, 341056)            0         \n",
            "_________________________________________________________________\n",
            "dense_1 (Dense)              (None, 128)               43655296  \n",
            "_________________________________________________________________\n",
            "dropout_2 (Dropout)          (None, 128)               0         \n",
            "_________________________________________________________________\n",
            "dense_2 (Dense)              (None, 3)                 387       \n",
            "=================================================================\n",
            "Total params: 43,675,075\n",
            "Trainable params: 43,675,075\n",
            "Non-trainable params: 0\n",
            "_________________________________________________________________\n"
          ],
          "name": "stdout"
        }
      ]
    },
    {
      "cell_type": "code",
      "metadata": {
        "id": "a_kRgvTQes-D",
        "colab_type": "code",
        "colab": {}
      },
      "source": [
        "model.compile(loss=keras.losses.categorical_crossentropy,\n",
        "              optimizer=keras.optimizers.Adadelta(),\n",
        "              metrics=['accuracy'])"
      ],
      "execution_count": 11,
      "outputs": []
    },
    {
      "cell_type": "code",
      "metadata": {
        "id": "wI_LBznOetBh",
        "colab_type": "code",
        "colab": {
          "base_uri": "https://localhost:8080/",
          "height": 751
        },
        "outputId": "ca3c57df-1559-4152-b650-f26a8a447239"
      },
      "source": [
        "history=model.fit_generator(\n",
        "    train_generator,\n",
        "    steps_per_epoch=nb_train_samples//batch_size,\n",
        "    epochs=epochs,\n",
        "    verbose=1,\n",
        "    validation_data=validation_generator,\n",
        "    validation_steps=nb_validation_samples//batch_size)"
      ],
      "execution_count": 12,
      "outputs": [
        {
          "output_type": "stream",
          "text": [
            "WARNING:tensorflow:From /usr/local/lib/python3.6/dist-packages/keras/backend/tensorflow_backend.py:422: The name tf.global_variables is deprecated. Please use tf.compat.v1.global_variables instead.\n",
            "\n",
            "Epoch 1/20\n",
            "12/12 [==============================] - 190s 16s/step - loss: 6.0572 - accuracy: 0.4453 - val_loss: 0.8359 - val_accuracy: 0.5312\n",
            "Epoch 2/20\n",
            "12/12 [==============================] - 17s 1s/step - loss: 0.7132 - accuracy: 0.6224 - val_loss: 0.5170 - val_accuracy: 0.6429\n",
            "Epoch 3/20\n",
            "12/12 [==============================] - 2s 174ms/step - loss: 0.5214 - accuracy: 0.7500 - val_loss: 0.6152 - val_accuracy: 0.6250\n",
            "Epoch 4/20\n",
            "12/12 [==============================] - 2s 172ms/step - loss: 0.4462 - accuracy: 0.8151 - val_loss: 0.5566 - val_accuracy: 0.7500\n",
            "Epoch 5/20\n",
            "12/12 [==============================] - 2s 170ms/step - loss: 0.2833 - accuracy: 0.9062 - val_loss: 0.7094 - val_accuracy: 0.7812\n",
            "Epoch 6/20\n",
            "12/12 [==============================] - 2s 172ms/step - loss: 0.2342 - accuracy: 0.9062 - val_loss: 0.5610 - val_accuracy: 0.8571\n",
            "Epoch 7/20\n",
            "12/12 [==============================] - 2s 169ms/step - loss: 0.2866 - accuracy: 0.8906 - val_loss: 1.7786 - val_accuracy: 0.5312\n",
            "Epoch 8/20\n",
            "12/12 [==============================] - 2s 173ms/step - loss: 0.3489 - accuracy: 0.9036 - val_loss: 0.6095 - val_accuracy: 0.7857\n",
            "Epoch 9/20\n",
            "12/12 [==============================] - 2s 172ms/step - loss: 0.1157 - accuracy: 0.9766 - val_loss: 0.4959 - val_accuracy: 0.8438\n",
            "Epoch 10/20\n",
            "12/12 [==============================] - 2s 174ms/step - loss: 0.1299 - accuracy: 0.9505 - val_loss: 0.4506 - val_accuracy: 0.8214\n",
            "Epoch 11/20\n",
            "12/12 [==============================] - 2s 173ms/step - loss: 0.1029 - accuracy: 0.9740 - val_loss: 0.2503 - val_accuracy: 0.8750\n",
            "Epoch 12/20\n",
            "12/12 [==============================] - 2s 170ms/step - loss: 0.0723 - accuracy: 0.9818 - val_loss: 0.7106 - val_accuracy: 0.7857\n",
            "Epoch 13/20\n",
            "12/12 [==============================] - 2s 169ms/step - loss: 0.0785 - accuracy: 0.9740 - val_loss: 0.2311 - val_accuracy: 0.9375\n",
            "Epoch 14/20\n",
            "12/12 [==============================] - 2s 171ms/step - loss: 0.0701 - accuracy: 0.9792 - val_loss: 0.6469 - val_accuracy: 0.7500\n",
            "Epoch 15/20\n",
            "12/12 [==============================] - 2s 179ms/step - loss: 0.0584 - accuracy: 0.9714 - val_loss: 0.3995 - val_accuracy: 0.9062\n",
            "Epoch 16/20\n",
            "12/12 [==============================] - 2s 175ms/step - loss: 0.0741 - accuracy: 0.9818 - val_loss: 0.4574 - val_accuracy: 0.7500\n",
            "Epoch 17/20\n",
            "12/12 [==============================] - 2s 173ms/step - loss: 0.0463 - accuracy: 0.9818 - val_loss: 0.3663 - val_accuracy: 0.8750\n",
            "Epoch 18/20\n",
            "12/12 [==============================] - 2s 175ms/step - loss: 0.0598 - accuracy: 0.9766 - val_loss: 0.6610 - val_accuracy: 0.8214\n",
            "Epoch 19/20\n",
            "12/12 [==============================] - 2s 174ms/step - loss: 0.0251 - accuracy: 0.9922 - val_loss: 0.5551 - val_accuracy: 0.8750\n",
            "Epoch 20/20\n",
            "12/12 [==============================] - 2s 172ms/step - loss: 0.0200 - accuracy: 0.9922 - val_loss: 0.5342 - val_accuracy: 0.8214\n"
          ],
          "name": "stdout"
        }
      ]
    },
    {
      "cell_type": "markdown",
      "metadata": {
        "id": "ZOkt4AmWoor5",
        "colab_type": "text"
      },
      "source": [
        "MODEL OVERFITTED , HENCE OPTIMIZING IT"
      ]
    },
    {
      "cell_type": "markdown",
      "metadata": {
        "id": "Lu5yByzSbOFY",
        "colab_type": "text"
      },
      "source": [
        "Optimization Techniques by changing the optimizers and weights of the data"
      ]
    },
    {
      "cell_type": "code",
      "metadata": {
        "id": "Mi5S_lQRdxJf",
        "colab_type": "code",
        "colab": {}
      },
      "source": [
        "from keras.optimizers import SGD"
      ],
      "execution_count": 13,
      "outputs": []
    },
    {
      "cell_type": "code",
      "metadata": {
        "id": "ZPbgp-ChetEd",
        "colab_type": "code",
        "colab": {}
      },
      "source": [
        "model = Sequential()\n",
        "model.add(Conv2D(32, (3, 3), activation='relu', kernel_initializer='he_uniform', input_shape=input_shape))\n",
        "model.add(MaxPooling2D((2, 2)))\n",
        "model.add(Conv2D(64, (3, 3), activation='relu', kernel_initializer='he_uniform'))\n",
        "model.add(MaxPooling2D((2, 2)))\n",
        "model.add(Conv2D(128, (3, 3), activation='relu', kernel_initializer='he_uniform'))\n",
        "model.add(Flatten())\n",
        "model.add(Dense(128, activation='relu', kernel_initializer='he_uniform'))\n",
        "model.add(Dense(3, activation='softmax'))\n",
        "# compile model\n",
        "opt = SGD(lr=0.001, momentum=0.9)\n",
        "model.compile(optimizer=opt, loss='categorical_crossentropy', metrics=['accuracy'])"
      ],
      "execution_count": 14,
      "outputs": []
    },
    {
      "cell_type": "code",
      "metadata": {
        "id": "HLcmZ9xYeHdn",
        "colab_type": "code",
        "colab": {}
      },
      "source": [
        "# Using batch_size 16\n",
        "batch_size = 16"
      ],
      "execution_count": 15,
      "outputs": []
    },
    {
      "cell_type": "code",
      "metadata": {
        "id": "Gw8txddcetHg",
        "colab_type": "code",
        "colab": {
          "base_uri": "https://localhost:8080/",
          "height": 697
        },
        "outputId": "a365d3bf-7435-4dac-bb77-ac1d29489214"
      },
      "source": [
        "# Using the Stochastic Gradient Descent with momentum For faster convergence\n",
        "history=model.fit_generator(\n",
        "    train_generator,\n",
        "    steps_per_epoch=nb_train_samples//batch_size,\n",
        "    epochs=epochs,\n",
        "    verbose=1,\n",
        "    validation_data=validation_generator,\n",
        "    validation_steps=nb_validation_samples//batch_size)"
      ],
      "execution_count": 16,
      "outputs": [
        {
          "output_type": "stream",
          "text": [
            "Epoch 1/20\n",
            "25/25 [==============================] - 3s 131ms/step - loss: 2.2646 - accuracy: 0.5775 - val_loss: 0.4934 - val_accuracy: 0.7609\n",
            "Epoch 2/20\n",
            "25/25 [==============================] - 3s 126ms/step - loss: 0.4550 - accuracy: 0.8087 - val_loss: 0.6433 - val_accuracy: 0.7159\n",
            "Epoch 3/20\n",
            "25/25 [==============================] - 3s 121ms/step - loss: 0.3413 - accuracy: 0.8575 - val_loss: 0.5705 - val_accuracy: 0.8043\n",
            "Epoch 4/20\n",
            "25/25 [==============================] - 3s 125ms/step - loss: 0.2735 - accuracy: 0.8950 - val_loss: 0.2686 - val_accuracy: 0.7955\n",
            "Epoch 5/20\n",
            "25/25 [==============================] - 3s 115ms/step - loss: 0.1856 - accuracy: 0.9463 - val_loss: 0.3215 - val_accuracy: 0.8152\n",
            "Epoch 6/20\n",
            "25/25 [==============================] - 3s 129ms/step - loss: 0.1634 - accuracy: 0.9500 - val_loss: 0.3491 - val_accuracy: 0.7841\n",
            "Epoch 7/20\n",
            "25/25 [==============================] - 3s 115ms/step - loss: 0.1291 - accuracy: 0.9600 - val_loss: 0.4168 - val_accuracy: 0.8261\n",
            "Epoch 8/20\n",
            "25/25 [==============================] - 3s 121ms/step - loss: 0.0960 - accuracy: 0.9725 - val_loss: 0.3423 - val_accuracy: 0.8182\n",
            "Epoch 9/20\n",
            "25/25 [==============================] - 3s 119ms/step - loss: 0.0697 - accuracy: 0.9900 - val_loss: 0.4854 - val_accuracy: 0.7935\n",
            "Epoch 10/20\n",
            "25/25 [==============================] - 3s 121ms/step - loss: 0.0603 - accuracy: 0.9887 - val_loss: 0.5561 - val_accuracy: 0.8068\n",
            "Epoch 11/20\n",
            "25/25 [==============================] - 3s 119ms/step - loss: 0.0494 - accuracy: 0.9912 - val_loss: 0.2207 - val_accuracy: 0.8478\n",
            "Epoch 12/20\n",
            "25/25 [==============================] - 3s 125ms/step - loss: 0.0377 - accuracy: 0.9962 - val_loss: 0.4889 - val_accuracy: 0.7955\n",
            "Epoch 13/20\n",
            "25/25 [==============================] - 3s 115ms/step - loss: 0.0258 - accuracy: 0.9987 - val_loss: 0.4168 - val_accuracy: 0.8370\n",
            "Epoch 14/20\n",
            "25/25 [==============================] - 3s 118ms/step - loss: 0.0218 - accuracy: 1.0000 - val_loss: 0.8581 - val_accuracy: 0.7841\n",
            "Epoch 15/20\n",
            "25/25 [==============================] - 3s 125ms/step - loss: 0.0226 - accuracy: 0.9975 - val_loss: 0.6908 - val_accuracy: 0.8043\n",
            "Epoch 16/20\n",
            "25/25 [==============================] - 3s 125ms/step - loss: 0.0172 - accuracy: 0.9987 - val_loss: 0.6145 - val_accuracy: 0.8068\n",
            "Epoch 17/20\n",
            "25/25 [==============================] - 3s 120ms/step - loss: 0.0153 - accuracy: 0.9987 - val_loss: 0.5360 - val_accuracy: 0.8152\n",
            "Epoch 18/20\n",
            "25/25 [==============================] - 3s 121ms/step - loss: 0.0098 - accuracy: 1.0000 - val_loss: 0.5509 - val_accuracy: 0.8182\n",
            "Epoch 19/20\n",
            "25/25 [==============================] - 3s 120ms/step - loss: 0.0090 - accuracy: 1.0000 - val_loss: 0.9027 - val_accuracy: 0.7717\n",
            "Epoch 20/20\n",
            "25/25 [==============================] - 3s 121ms/step - loss: 0.0073 - accuracy: 1.0000 - val_loss: 0.8314 - val_accuracy: 0.8409\n"
          ],
          "name": "stdout"
        }
      ]
    },
    {
      "cell_type": "markdown",
      "metadata": {
        "id": "c1-8ZeYjep6B",
        "colab_type": "text"
      },
      "source": [
        "We can see the training and testing accuracy increased by changing the optimizer and using the UNIFORM weights in the network."
      ]
    },
    {
      "cell_type": "markdown",
      "metadata": {
        "id": "fNk8lrIMvAKo",
        "colab_type": "text"
      },
      "source": [
        "Applying the optimizing technique again"
      ]
    },
    {
      "cell_type": "code",
      "metadata": {
        "id": "EmlI-8N2etM7",
        "colab_type": "code",
        "colab": {}
      },
      "source": [
        "model = Sequential()\n",
        "model.add(Conv2D(32, (3, 3), activation='relu', kernel_initializer='he_uniform', input_shape=input_shape))\n",
        "model.add(MaxPooling2D((2, 2)))\n",
        "model.add(Conv2D(64, (3, 3), activation='relu', kernel_initializer='he_uniform'))\n",
        "model.add(MaxPooling2D((2, 2)))\n",
        "model.add(Conv2D(128, (3, 3), activation='relu', kernel_initializer='he_uniform'))\n",
        "model.add(Flatten())\n",
        "model.add(Dense(128, activation='relu', kernel_initializer='he_uniform'))\n",
        "model.add(Dense(3, activation='softmax'))\n",
        "# compile model\n",
        "opt = keras.optimizers.Adam(learning_rate=0.01)\n",
        "model.compile(optimizer=opt, loss='categorical_crossentropy', metrics=['accuracy'])"
      ],
      "execution_count": 17,
      "outputs": []
    },
    {
      "cell_type": "code",
      "metadata": {
        "id": "-j7YRxvsetQH",
        "colab_type": "code",
        "colab": {}
      },
      "source": [
        "# Using batch_size 8\n",
        "batch_size = 8\n",
        "epochs = 40"
      ],
      "execution_count": 18,
      "outputs": []
    },
    {
      "cell_type": "code",
      "metadata": {
        "id": "jHWuXNvietT7",
        "colab_type": "code",
        "colab": {
          "base_uri": "https://localhost:8080/",
          "height": 1000
        },
        "outputId": "991df9b0-1452-4a13-b1f3-c3893dec9bdd"
      },
      "source": [
        "# Using the Stochastic Gradient Descent with momentum For faster convergence\n",
        "history=model.fit_generator(\n",
        "    train_generator,\n",
        "    steps_per_epoch=nb_train_samples//batch_size,\n",
        "    epochs=epochs,\n",
        "    verbose=1,\n",
        "    validation_data=validation_generator,\n",
        "    validation_steps=nb_validation_samples//batch_size)"
      ],
      "execution_count": 19,
      "outputs": [
        {
          "output_type": "stream",
          "text": [
            "Epoch 1/40\n",
            "50/50 [==============================] - 7s 136ms/step - loss: 91.1600 - accuracy: 0.5562 - val_loss: 0.4202 - val_accuracy: 0.6887\n",
            "Epoch 2/40\n",
            "50/50 [==============================] - 7s 132ms/step - loss: 0.3134 - accuracy: 0.8775 - val_loss: 0.5843 - val_accuracy: 0.8077\n",
            "Epoch 3/40\n",
            "50/50 [==============================] - 7s 131ms/step - loss: 0.0888 - accuracy: 0.9719 - val_loss: 1.1503 - val_accuracy: 0.8113\n",
            "Epoch 4/40\n",
            "50/50 [==============================] - 6s 130ms/step - loss: 0.0135 - accuracy: 0.9975 - val_loss: 1.1588 - val_accuracy: 0.9038\n",
            "Epoch 5/40\n",
            "50/50 [==============================] - 6s 127ms/step - loss: 0.0022 - accuracy: 1.0000 - val_loss: 0.6617 - val_accuracy: 0.8538\n",
            "Epoch 6/40\n",
            "50/50 [==============================] - 7s 141ms/step - loss: 6.7494e-04 - accuracy: 1.0000 - val_loss: 1.6383 - val_accuracy: 0.8462\n",
            "Epoch 7/40\n",
            "50/50 [==============================] - 6s 124ms/step - loss: 2.6447e-04 - accuracy: 1.0000 - val_loss: 2.2604 - val_accuracy: 0.8255\n",
            "Epoch 8/40\n",
            "50/50 [==============================] - 7s 134ms/step - loss: 1.3622e-04 - accuracy: 1.0000 - val_loss: 1.0572 - val_accuracy: 0.8413\n",
            "Epoch 9/40\n",
            "50/50 [==============================] - 7s 132ms/step - loss: 7.6753e-05 - accuracy: 1.0000 - val_loss: 1.4421 - val_accuracy: 0.8255\n",
            "Epoch 10/40\n",
            "50/50 [==============================] - 6s 130ms/step - loss: 4.4454e-05 - accuracy: 1.0000 - val_loss: 1.0345 - val_accuracy: 0.8413\n",
            "Epoch 11/40\n",
            "50/50 [==============================] - 7s 130ms/step - loss: 3.5282e-05 - accuracy: 1.0000 - val_loss: 1.3249 - val_accuracy: 0.8208\n",
            "Epoch 12/40\n",
            "50/50 [==============================] - 6s 126ms/step - loss: 2.3923e-05 - accuracy: 1.0000 - val_loss: 0.9586 - val_accuracy: 0.8317\n",
            "Epoch 13/40\n",
            "50/50 [==============================] - 6s 126ms/step - loss: 1.9006e-05 - accuracy: 1.0000 - val_loss: 2.0073 - val_accuracy: 0.8160\n",
            "Epoch 14/40\n",
            "50/50 [==============================] - 6s 127ms/step - loss: 1.4792e-05 - accuracy: 1.0000 - val_loss: 2.5361 - val_accuracy: 0.8173\n",
            "Epoch 15/40\n",
            "50/50 [==============================] - 7s 132ms/step - loss: 1.1449e-05 - accuracy: 1.0000 - val_loss: 0.6131 - val_accuracy: 0.8113\n",
            "Epoch 16/40\n",
            "50/50 [==============================] - 7s 133ms/step - loss: 9.6069e-06 - accuracy: 1.0000 - val_loss: 0.4767 - val_accuracy: 0.8029\n",
            "Epoch 17/40\n",
            "50/50 [==============================] - 6s 129ms/step - loss: 7.4470e-06 - accuracy: 1.0000 - val_loss: 1.7240 - val_accuracy: 0.8066\n",
            "Epoch 18/40\n",
            "50/50 [==============================] - 6s 129ms/step - loss: 7.1136e-06 - accuracy: 1.0000 - val_loss: 2.5078 - val_accuracy: 0.8125\n",
            "Epoch 19/40\n",
            "50/50 [==============================] - 6s 130ms/step - loss: 5.8603e-06 - accuracy: 1.0000 - val_loss: 2.3248 - val_accuracy: 0.7972\n",
            "Epoch 20/40\n",
            "50/50 [==============================] - 6s 121ms/step - loss: 4.9141e-06 - accuracy: 1.0000 - val_loss: 3.1931 - val_accuracy: 0.8029\n",
            "Epoch 21/40\n",
            "50/50 [==============================] - 7s 131ms/step - loss: 4.2550e-06 - accuracy: 1.0000 - val_loss: 1.4632 - val_accuracy: 0.8019\n",
            "Epoch 22/40\n",
            "50/50 [==============================] - 7s 130ms/step - loss: 3.9007e-06 - accuracy: 1.0000 - val_loss: 1.1103 - val_accuracy: 0.7981\n",
            "Epoch 23/40\n",
            "50/50 [==============================] - 6s 129ms/step - loss: 3.3721e-06 - accuracy: 1.0000 - val_loss: 1.7103 - val_accuracy: 0.8019\n",
            "Epoch 24/40\n",
            "50/50 [==============================] - 7s 132ms/step - loss: 3.2335e-06 - accuracy: 1.0000 - val_loss: 1.3994 - val_accuracy: 0.7981\n",
            "Epoch 25/40\n",
            "50/50 [==============================] - 6s 127ms/step - loss: 2.7187e-06 - accuracy: 1.0000 - val_loss: 1.9200 - val_accuracy: 0.8066\n",
            "Epoch 26/40\n",
            "50/50 [==============================] - 6s 124ms/step - loss: 2.5451e-06 - accuracy: 1.0000 - val_loss: 2.0816 - val_accuracy: 0.7933\n",
            "Epoch 27/40\n",
            "50/50 [==============================] - 6s 123ms/step - loss: 2.3457e-06 - accuracy: 1.0000 - val_loss: 2.2153 - val_accuracy: 0.7877\n",
            "Epoch 28/40\n",
            "50/50 [==============================] - 7s 130ms/step - loss: 1.9645e-06 - accuracy: 1.0000 - val_loss: 2.2726 - val_accuracy: 0.7788\n",
            "Epoch 29/40\n",
            "50/50 [==============================] - 7s 133ms/step - loss: 1.9090e-06 - accuracy: 1.0000 - val_loss: 2.1334 - val_accuracy: 0.7972\n",
            "Epoch 30/40\n",
            "50/50 [==============================] - 6s 129ms/step - loss: 1.7839e-06 - accuracy: 1.0000 - val_loss: 2.8800 - val_accuracy: 0.7692\n",
            "Epoch 31/40\n",
            "50/50 [==============================] - 6s 126ms/step - loss: 1.6957e-06 - accuracy: 1.0000 - val_loss: 1.0708 - val_accuracy: 0.7972\n",
            "Epoch 32/40\n",
            "50/50 [==============================] - 6s 127ms/step - loss: 1.4983e-06 - accuracy: 1.0000 - val_loss: 0.7553 - val_accuracy: 0.7692\n",
            "Epoch 33/40\n",
            "50/50 [==============================] - 6s 118ms/step - loss: 1.3866e-06 - accuracy: 1.0000 - val_loss: 2.7546 - val_accuracy: 0.7877\n",
            "Epoch 34/40\n",
            "50/50 [==============================] - 7s 132ms/step - loss: 1.2337e-06 - accuracy: 1.0000 - val_loss: 1.8814 - val_accuracy: 0.7788\n",
            "Epoch 35/40\n",
            "50/50 [==============================] - 7s 131ms/step - loss: 1.2567e-06 - accuracy: 1.0000 - val_loss: 1.9942 - val_accuracy: 0.7877\n",
            "Epoch 36/40\n",
            "50/50 [==============================] - 7s 132ms/step - loss: 1.1624e-06 - accuracy: 1.0000 - val_loss: 2.0653 - val_accuracy: 0.7788\n",
            "Epoch 37/40\n",
            "50/50 [==============================] - 6s 130ms/step - loss: 1.0490e-06 - accuracy: 1.0000 - val_loss: 3.4289 - val_accuracy: 0.7783\n",
            "Epoch 38/40\n",
            "50/50 [==============================] - 6s 129ms/step - loss: 9.7662e-07 - accuracy: 1.0000 - val_loss: 2.6514 - val_accuracy: 0.7885\n",
            "Epoch 39/40\n",
            "50/50 [==============================] - 6s 124ms/step - loss: 8.9384e-07 - accuracy: 1.0000 - val_loss: 2.1175 - val_accuracy: 0.7830\n",
            "Epoch 40/40\n",
            "50/50 [==============================] - 6s 123ms/step - loss: 8.3990e-07 - accuracy: 1.0000 - val_loss: 1.3181 - val_accuracy: 0.7837\n"
          ],
          "name": "stdout"
        }
      ]
    },
    {
      "cell_type": "markdown",
      "metadata": {
        "id": "_Itdl8CwNptt",
        "colab_type": "text"
      },
      "source": [
        "Adding Dropouts and re training the model"
      ]
    },
    {
      "cell_type": "code",
      "metadata": {
        "id": "zLiKchlaetW7",
        "colab_type": "code",
        "colab": {}
      },
      "source": [
        "model = Sequential()\n",
        "model.add(Conv2D(32, (3, 3), activation='relu', kernel_initializer='he_uniform', input_shape=input_shape))\n",
        "model.add(MaxPooling2D((2, 2)))\n",
        "model.add(Dropout(0.5))\n",
        "model.add(Conv2D(64, (3, 3), activation='relu', kernel_initializer='he_uniform'))\n",
        "model.add(MaxPooling2D((2, 2)))\n",
        "model.add(Dropout(0.5))\n",
        "model.add(Conv2D(128, (3, 3), activation='relu', kernel_initializer='he_uniform'))\n",
        "model.add(Flatten())\n",
        "model.add(Dense(128, activation='relu', kernel_initializer='he_uniform'))\n",
        "model.add(Dropout(0.5))\n",
        "model.add(Dense(3, activation='softmax'))\n",
        "# compile model\n",
        "opt = keras.optimizers.Adam(learning_rate=0.01)\n",
        "model.compile(optimizer=opt, loss='categorical_crossentropy', metrics=['accuracy'])"
      ],
      "execution_count": 20,
      "outputs": []
    },
    {
      "cell_type": "code",
      "metadata": {
        "id": "_25vUXCletfw",
        "colab_type": "code",
        "colab": {}
      },
      "source": [
        "# Using batch_size 16\n",
        "batch_size = 16\n",
        "epochs = 40"
      ],
      "execution_count": 21,
      "outputs": []
    },
    {
      "cell_type": "code",
      "metadata": {
        "id": "ikgB0NNjetjT",
        "colab_type": "code",
        "colab": {
          "base_uri": "https://localhost:8080/",
          "height": 1000
        },
        "outputId": "8051de2a-8bc9-4c4e-ef76-8cd80fa91ec4"
      },
      "source": [
        "# Using the Stochastic Gradient Descent with momentum For faster convergence\n",
        "history=model.fit_generator(\n",
        "    train_generator,\n",
        "    steps_per_epoch=nb_train_samples//batch_size,\n",
        "    epochs=epochs,\n",
        "    verbose=1,\n",
        "    validation_data=validation_generator,\n",
        "    validation_steps=nb_validation_samples//batch_size)"
      ],
      "execution_count": 22,
      "outputs": [
        {
          "output_type": "stream",
          "text": [
            "Epoch 1/40\n",
            "25/25 [==============================] - 3s 137ms/step - loss: 172.8120 - accuracy: 0.3562 - val_loss: 1.0858 - val_accuracy: 0.3804\n",
            "Epoch 2/40\n",
            "25/25 [==============================] - 3s 134ms/step - loss: 0.9719 - accuracy: 0.5225 - val_loss: 1.0951 - val_accuracy: 0.3182\n",
            "Epoch 3/40\n",
            "25/25 [==============================] - 3s 133ms/step - loss: 0.7797 - accuracy: 0.6062 - val_loss: 0.8437 - val_accuracy: 0.5435\n",
            "Epoch 4/40\n",
            "25/25 [==============================] - 3s 126ms/step - loss: 0.6781 - accuracy: 0.6675 - val_loss: 0.8317 - val_accuracy: 0.6364\n",
            "Epoch 5/40\n",
            "25/25 [==============================] - 3s 127ms/step - loss: 0.5064 - accuracy: 0.7588 - val_loss: 0.7006 - val_accuracy: 0.6739\n",
            "Epoch 6/40\n",
            "25/25 [==============================] - 3s 129ms/step - loss: 0.4246 - accuracy: 0.7900 - val_loss: 0.9919 - val_accuracy: 0.7273\n",
            "Epoch 7/40\n",
            "25/25 [==============================] - 3s 124ms/step - loss: 0.3803 - accuracy: 0.8275 - val_loss: 0.6376 - val_accuracy: 0.7065\n",
            "Epoch 8/40\n",
            "25/25 [==============================] - 3s 133ms/step - loss: 0.4570 - accuracy: 0.8225 - val_loss: 1.6338 - val_accuracy: 0.4318\n",
            "Epoch 9/40\n",
            "25/25 [==============================] - 3s 123ms/step - loss: 0.4691 - accuracy: 0.8163 - val_loss: 0.5636 - val_accuracy: 0.6630\n",
            "Epoch 10/40\n",
            "25/25 [==============================] - 3s 126ms/step - loss: 0.3059 - accuracy: 0.8775 - val_loss: 0.7706 - val_accuracy: 0.7159\n",
            "Epoch 11/40\n",
            "25/25 [==============================] - 3s 123ms/step - loss: 0.2425 - accuracy: 0.9000 - val_loss: 0.2708 - val_accuracy: 0.7174\n",
            "Epoch 12/40\n",
            "25/25 [==============================] - 3s 133ms/step - loss: 0.2771 - accuracy: 0.8875 - val_loss: 0.8019 - val_accuracy: 0.6364\n",
            "Epoch 13/40\n",
            "25/25 [==============================] - 3s 127ms/step - loss: 0.2180 - accuracy: 0.9112 - val_loss: 1.2872 - val_accuracy: 0.6957\n",
            "Epoch 14/40\n",
            "25/25 [==============================] - 3s 130ms/step - loss: 0.1770 - accuracy: 0.9187 - val_loss: 0.6476 - val_accuracy: 0.7045\n",
            "Epoch 15/40\n",
            "25/25 [==============================] - 3s 133ms/step - loss: 0.1424 - accuracy: 0.9425 - val_loss: 0.9067 - val_accuracy: 0.6630\n",
            "Epoch 16/40\n",
            "25/25 [==============================] - 3s 131ms/step - loss: 0.1442 - accuracy: 0.9413 - val_loss: 1.3954 - val_accuracy: 0.7159\n",
            "Epoch 17/40\n",
            "25/25 [==============================] - 3s 122ms/step - loss: 0.0776 - accuracy: 0.9675 - val_loss: 0.8178 - val_accuracy: 0.7391\n",
            "Epoch 18/40\n",
            "25/25 [==============================] - 3s 134ms/step - loss: 0.1541 - accuracy: 0.9550 - val_loss: 1.1516 - val_accuracy: 0.7159\n",
            "Epoch 19/40\n",
            "25/25 [==============================] - 3s 123ms/step - loss: 0.1311 - accuracy: 0.9588 - val_loss: 1.0060 - val_accuracy: 0.7065\n",
            "Epoch 20/40\n",
            "25/25 [==============================] - 3s 134ms/step - loss: 0.0915 - accuracy: 0.9675 - val_loss: 1.3796 - val_accuracy: 0.7273\n",
            "Epoch 21/40\n",
            "25/25 [==============================] - 3s 126ms/step - loss: 0.0587 - accuracy: 0.9775 - val_loss: 1.3084 - val_accuracy: 0.7391\n",
            "Epoch 22/40\n",
            "25/25 [==============================] - 3s 130ms/step - loss: 0.1326 - accuracy: 0.9625 - val_loss: 0.9282 - val_accuracy: 0.7045\n",
            "Epoch 23/40\n",
            "25/25 [==============================] - 3s 123ms/step - loss: 0.1537 - accuracy: 0.9575 - val_loss: 0.7899 - val_accuracy: 0.7065\n",
            "Epoch 24/40\n",
            "25/25 [==============================] - 3s 134ms/step - loss: 0.1917 - accuracy: 0.9312 - val_loss: 0.5535 - val_accuracy: 0.6818\n",
            "Epoch 25/40\n",
            "25/25 [==============================] - 3s 122ms/step - loss: 0.0924 - accuracy: 0.9650 - val_loss: 0.9041 - val_accuracy: 0.7174\n",
            "Epoch 26/40\n",
            "25/25 [==============================] - 3s 129ms/step - loss: 0.1066 - accuracy: 0.9625 - val_loss: 0.6263 - val_accuracy: 0.7045\n",
            "Epoch 27/40\n",
            "25/25 [==============================] - 3s 130ms/step - loss: 0.1077 - accuracy: 0.9750 - val_loss: 0.7179 - val_accuracy: 0.7174\n",
            "Epoch 28/40\n",
            "25/25 [==============================] - 4s 146ms/step - loss: 0.0698 - accuracy: 0.9837 - val_loss: 0.8874 - val_accuracy: 0.6705\n",
            "Epoch 29/40\n",
            "25/25 [==============================] - 4s 140ms/step - loss: 0.0402 - accuracy: 0.9887 - val_loss: 0.8335 - val_accuracy: 0.7826\n",
            "Epoch 30/40\n",
            "25/25 [==============================] - 3s 137ms/step - loss: 0.0753 - accuracy: 0.9762 - val_loss: 0.7022 - val_accuracy: 0.7045\n",
            "Epoch 31/40\n",
            "25/25 [==============================] - 3s 124ms/step - loss: 0.0325 - accuracy: 0.9925 - val_loss: 1.4135 - val_accuracy: 0.6848\n",
            "Epoch 32/40\n",
            "25/25 [==============================] - 3s 126ms/step - loss: 0.0536 - accuracy: 0.9812 - val_loss: 0.9280 - val_accuracy: 0.7159\n",
            "Epoch 33/40\n",
            "25/25 [==============================] - 3s 127ms/step - loss: 0.0545 - accuracy: 0.9925 - val_loss: 1.2067 - val_accuracy: 0.6957\n",
            "Epoch 34/40\n",
            "25/25 [==============================] - 3s 130ms/step - loss: 0.0578 - accuracy: 0.9825 - val_loss: 0.7415 - val_accuracy: 0.7614\n",
            "Epoch 35/40\n",
            "25/25 [==============================] - 3s 123ms/step - loss: 0.0787 - accuracy: 0.9812 - val_loss: 0.6962 - val_accuracy: 0.7174\n",
            "Epoch 36/40\n",
            "25/25 [==============================] - 3s 134ms/step - loss: 0.0315 - accuracy: 0.9887 - val_loss: 0.9769 - val_accuracy: 0.7386\n",
            "Epoch 37/40\n",
            "25/25 [==============================] - 3s 127ms/step - loss: 0.0470 - accuracy: 0.9875 - val_loss: 0.5068 - val_accuracy: 0.7283\n",
            "Epoch 38/40\n",
            "25/25 [==============================] - 3s 130ms/step - loss: 0.0479 - accuracy: 0.9850 - val_loss: 0.7722 - val_accuracy: 0.6250\n",
            "Epoch 39/40\n",
            "25/25 [==============================] - 3s 123ms/step - loss: 0.0459 - accuracy: 0.9900 - val_loss: 0.7855 - val_accuracy: 0.6957\n",
            "Epoch 40/40\n",
            "25/25 [==============================] - 3s 130ms/step - loss: 0.0472 - accuracy: 0.9925 - val_loss: 0.6843 - val_accuracy: 0.7159\n"
          ],
          "name": "stdout"
        }
      ]
    },
    {
      "cell_type": "markdown",
      "metadata": {
        "id": "SuoIrVhzEXtW",
        "colab_type": "text"
      },
      "source": [
        "Applying Early Stopping to Stop the Overfitting in the model"
      ]
    },
    {
      "cell_type": "code",
      "metadata": {
        "id": "8uxaztfIetK2",
        "colab_type": "code",
        "colab": {}
      },
      "source": [
        "model = Sequential()\n",
        "model.add(Conv2D(32, (3, 3), activation='relu', kernel_initializer='he_uniform', input_shape=input_shape))\n",
        "model.add(MaxPooling2D((2, 2)))\n",
        "model.add(Dropout(0.5))\n",
        "model.add(Conv2D(64, (3, 3), activation='relu', kernel_initializer='he_uniform'))\n",
        "model.add(MaxPooling2D((2, 2)))\n",
        "model.add(Dropout(0.5))\n",
        "model.add(Conv2D(128, (3, 3), activation='relu', kernel_initializer='he_uniform'))\n",
        "model.add(Flatten())\n",
        "model.add(Dense(128, activation='relu', kernel_initializer='he_uniform'))\n",
        "model.add(Dropout(0.5))\n",
        "model.add(Dense(3, activation='softmax'))\n",
        "# compile model\n",
        "opt = keras.optimizers.Adam(learning_rate=0.01)\n",
        "model.compile(optimizer=opt, loss='categorical_crossentropy', metrics=['accuracy'])\n",
        "# Save Model\n",
        "model.save(\"OPENCV_AUG\")"
      ],
      "execution_count": 27,
      "outputs": []
    },
    {
      "cell_type": "code",
      "metadata": {
        "id": "IlQmkPgKH0sN",
        "colab_type": "code",
        "colab": {}
      },
      "source": [
        "# Using batch_size 16\n",
        "batch_size = 16\n",
        "epochs = 40"
      ],
      "execution_count": 28,
      "outputs": []
    },
    {
      "cell_type": "code",
      "metadata": {
        "id": "mMZWOJL5H0ya",
        "colab_type": "code",
        "colab": {}
      },
      "source": [
        "from keras.callbacks import ModelCheckpoint , EarlyStopping\n",
        "checkpoint = ModelCheckpoint(\"OPENCV_AUG\",monitor = \"val_accuracy\",verbose = 1 , save_best_only = True , save_weights_only = False , mode = \"auto\",period = 1)\n",
        "early = EarlyStopping(monitor = \"val_accuracy\", min_delta = 0 ,patience = 5 , verbose = 1 ,mode = \"auto\" )"
      ],
      "execution_count": 29,
      "outputs": []
    },
    {
      "cell_type": "code",
      "metadata": {
        "id": "4NrPtXQ4H1Dh",
        "colab_type": "code",
        "colab": {
          "base_uri": "https://localhost:8080/",
          "height": 578
        },
        "outputId": "2413536d-35d1-47e8-c0a2-83bf0024000b"
      },
      "source": [
        "# Using the Stochastic Gradient Descent with momentum For faster convergence\n",
        "history=model.fit_generator(\n",
        "    train_generator,\n",
        "    steps_per_epoch=nb_train_samples//batch_size,\n",
        "    epochs=epochs,\n",
        "    verbose=1,\n",
        "    validation_data=validation_generator,\n",
        "    validation_steps=nb_validation_samples//batch_size,\n",
        "    callbacks = [checkpoint,early])"
      ],
      "execution_count": 30,
      "outputs": [
        {
          "output_type": "stream",
          "text": [
            "Epoch 1/40\n",
            "25/25 [==============================] - 3s 139ms/step - loss: 130.9934 - accuracy: 0.3075 - val_loss: 1.0911 - val_accuracy: 0.3478\n",
            "\n",
            "Epoch 00001: val_accuracy improved from -inf to 0.34783, saving model to OPENCV_AUG\n",
            "Epoch 2/40\n",
            "25/25 [==============================] - 3s 129ms/step - loss: 1.0998 - accuracy: 0.3338 - val_loss: 1.1009 - val_accuracy: 0.3636\n",
            "\n",
            "Epoch 00002: val_accuracy improved from 0.34783 to 0.36364, saving model to OPENCV_AUG\n",
            "Epoch 3/40\n",
            "25/25 [==============================] - 3s 130ms/step - loss: 1.0976 - accuracy: 0.3575 - val_loss: 1.0825 - val_accuracy: 0.3913\n",
            "\n",
            "Epoch 00003: val_accuracy improved from 0.36364 to 0.39130, saving model to OPENCV_AUG\n",
            "Epoch 4/40\n",
            "25/25 [==============================] - 3s 132ms/step - loss: 1.1021 - accuracy: 0.3288 - val_loss: 1.1014 - val_accuracy: 0.2727\n",
            "\n",
            "Epoch 00004: val_accuracy did not improve from 0.39130\n",
            "Epoch 5/40\n",
            "25/25 [==============================] - 3s 127ms/step - loss: 1.0990 - accuracy: 0.3375 - val_loss: 1.0992 - val_accuracy: 0.3370\n",
            "\n",
            "Epoch 00005: val_accuracy did not improve from 0.39130\n",
            "Epoch 6/40\n",
            "25/25 [==============================] - 3s 130ms/step - loss: 1.0986 - accuracy: 0.3388 - val_loss: 1.0988 - val_accuracy: 0.3295\n",
            "\n",
            "Epoch 00006: val_accuracy did not improve from 0.39130\n",
            "Epoch 7/40\n",
            "25/25 [==============================] - 3s 123ms/step - loss: 1.0980 - accuracy: 0.3575 - val_loss: 1.0980 - val_accuracy: 0.3478\n",
            "\n",
            "Epoch 00007: val_accuracy did not improve from 0.39130\n",
            "Epoch 8/40\n",
            "25/25 [==============================] - 3s 126ms/step - loss: 1.0999 - accuracy: 0.3462 - val_loss: 1.0999 - val_accuracy: 0.3182\n",
            "\n",
            "Epoch 00008: val_accuracy did not improve from 0.39130\n",
            "Epoch 00008: early stopping\n"
          ],
          "name": "stdout"
        }
      ]
    },
    {
      "cell_type": "code",
      "metadata": {
        "id": "dI5sfX8ZH1Kd",
        "colab_type": "code",
        "colab": {}
      },
      "source": [
        ""
      ],
      "execution_count": null,
      "outputs": []
    },
    {
      "cell_type": "code",
      "metadata": {
        "id": "OuD7o-U0H1Qj",
        "colab_type": "code",
        "colab": {}
      },
      "source": [
        ""
      ],
      "execution_count": null,
      "outputs": []
    },
    {
      "cell_type": "code",
      "metadata": {
        "id": "ZNSVIdamH1bd",
        "colab_type": "code",
        "colab": {}
      },
      "source": [
        ""
      ],
      "execution_count": null,
      "outputs": []
    },
    {
      "cell_type": "code",
      "metadata": {
        "id": "3HBrzTY4H1iB",
        "colab_type": "code",
        "colab": {}
      },
      "source": [
        ""
      ],
      "execution_count": null,
      "outputs": []
    },
    {
      "cell_type": "code",
      "metadata": {
        "id": "UmuhCdbgH1gI",
        "colab_type": "code",
        "colab": {}
      },
      "source": [
        ""
      ],
      "execution_count": null,
      "outputs": []
    },
    {
      "cell_type": "code",
      "metadata": {
        "id": "XNLu39EvH1ZC",
        "colab_type": "code",
        "colab": {}
      },
      "source": [
        ""
      ],
      "execution_count": null,
      "outputs": []
    },
    {
      "cell_type": "code",
      "metadata": {
        "id": "GnVPzv9vH1XH",
        "colab_type": "code",
        "colab": {}
      },
      "source": [
        ""
      ],
      "execution_count": null,
      "outputs": []
    },
    {
      "cell_type": "code",
      "metadata": {
        "id": "pdaDI7YJH1Oo",
        "colab_type": "code",
        "colab": {}
      },
      "source": [
        ""
      ],
      "execution_count": null,
      "outputs": []
    },
    {
      "cell_type": "code",
      "metadata": {
        "id": "ijVAObdsH1H9",
        "colab_type": "code",
        "colab": {}
      },
      "source": [
        ""
      ],
      "execution_count": null,
      "outputs": []
    },
    {
      "cell_type": "code",
      "metadata": {
        "id": "LVWn6MIeH1A1",
        "colab_type": "code",
        "colab": {}
      },
      "source": [
        ""
      ],
      "execution_count": null,
      "outputs": []
    },
    {
      "cell_type": "code",
      "metadata": {
        "id": "UjoLxWd7H0_S",
        "colab_type": "code",
        "colab": {}
      },
      "source": [
        ""
      ],
      "execution_count": null,
      "outputs": []
    },
    {
      "cell_type": "code",
      "metadata": {
        "id": "_fMSuEMtH063",
        "colab_type": "code",
        "colab": {}
      },
      "source": [
        ""
      ],
      "execution_count": null,
      "outputs": []
    },
    {
      "cell_type": "code",
      "metadata": {
        "id": "w3c_ga-wH04F",
        "colab_type": "code",
        "colab": {}
      },
      "source": [
        ""
      ],
      "execution_count": null,
      "outputs": []
    },
    {
      "cell_type": "code",
      "metadata": {
        "id": "a22_lmLJH01w",
        "colab_type": "code",
        "colab": {}
      },
      "source": [
        ""
      ],
      "execution_count": null,
      "outputs": []
    },
    {
      "cell_type": "code",
      "metadata": {
        "id": "QedUjxv6H0vs",
        "colab_type": "code",
        "colab": {}
      },
      "source": [
        ""
      ],
      "execution_count": null,
      "outputs": []
    }
  ]
}