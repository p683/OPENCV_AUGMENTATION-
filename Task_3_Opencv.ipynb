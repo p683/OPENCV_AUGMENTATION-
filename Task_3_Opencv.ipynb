{
 "cells": [
  {
   "cell_type": "markdown",
   "metadata": {},
   "source": [
    "###  IMPORTING THE IMAGES FOR THE AUGMENTATION.\n",
    "### IMPORTING THE LIBRARIES"
   ]
  },
  {
   "cell_type": "code",
   "execution_count": 1,
   "metadata": {},
   "outputs": [],
   "source": [
    "import cv2\n",
    "from skimage.exposure import rescale_intensity\n",
    "from skimage.segmentation import slic\n",
    "from skimage.util import img_as_float\n",
    "from skimage import io\n",
    "import numpy as np"
   ]
  },
  {
   "cell_type": "code",
   "execution_count": 2,
   "metadata": {},
   "outputs": [],
   "source": [
    "Folder_name = \"C://Users//punee//Desktop//IMAGES\"\n",
    "Extension=\".jpg\""
   ]
  },
  {
   "cell_type": "markdown",
   "metadata": {},
   "source": [
    "### FUNCTIONS FOR THE IMAGE AUGMENTATION"
   ]
  },
  {
   "cell_type": "code",
   "execution_count": 3,
   "metadata": {},
   "outputs": [],
   "source": [
    "#RESIZE\n",
    "def resize_image(image,w,h):\n",
    "    image=cv2.resize(image,(w,h))\n",
    "    cv2.imwrite(Folder_name+\"/Resize-\"+str(w)+\"*\"+str(h)+Extension, image)"
   ]
  },
  {
   "cell_type": "code",
   "execution_count": 4,
   "metadata": {},
   "outputs": [],
   "source": [
    "#rotation\n",
    "def rotate_image(image,deg):\n",
    "    rows, cols,c = image.shape\n",
    "    M = cv2.getRotationMatrix2D((cols/2,rows/2), deg, 1)\n",
    "    image = cv2.warpAffine(image, M, (cols, rows))\n",
    "    cv2.imwrite(Folder_name + \"/Rotate-\" + str(deg) + Extension, image)"
   ]
  },
  {
   "cell_type": "code",
   "execution_count": 5,
   "metadata": {},
   "outputs": [],
   "source": [
    "#sharp image\n",
    "def sharpen_image(image):\n",
    "    kernel = np.array([[0, -1, 0], [-1, 5, -1], [0, -1, 0]])\n",
    "    image = cv2.filter2D(image, -1, kernel)\n",
    "    cv2.imwrite(Folder_name+\"/Sharpen-\"+Extension, image)"
   ]
  },
  {
   "cell_type": "code",
   "execution_count": 6,
   "metadata": {},
   "outputs": [],
   "source": [
    "#flipping\n",
    "def flip_image(image,dir):\n",
    "    image = cv2.flip(image, dir)\n",
    "    cv2.imwrite(Folder_name + \"/flip-\" + str(dir)+Extension, image)"
   ]
  },
  {
   "cell_type": "code",
   "execution_count": 7,
   "metadata": {},
   "outputs": [],
   "source": [
    "#brightness increasing or  decreasing\n",
    "def brightness(image, value):\n",
    "    hsv = cv2.cvtColor(image, cv2.COLOR_BGR2HSV)\n",
    "    h, s, v = cv2.split(hsv)\n",
    "    v = cv2.add(v,value)\n",
    "    v[v > 255] = 255\n",
    "    v[v < 0] = 0\n",
    "    final_hsv = cv2.merge((h, s, v))\n",
    "    image = cv2.cvtColor(final_hsv, cv2.COLOR_HSV2BGR)\n",
    "    cv2.imwrite(Folder_name + \"/brightness-\" + str(value)+Extension, image)"
   ]
  },
  {
   "cell_type": "markdown",
   "metadata": {},
   "source": [
    "### AUGMENTING THE JEANS IMAGES "
   ]
  },
  {
   "cell_type": "code",
   "execution_count": 8,
   "metadata": {},
   "outputs": [],
   "source": [
    "image_file=r\"C:\\Users\\punee\\Desktop\\IMAGES\\1.jpg\"\n",
    "image=cv2.imread(image_file)\n",
    "resize_image(image,450,400)"
   ]
  },
  {
   "cell_type": "code",
   "execution_count": 9,
   "metadata": {},
   "outputs": [],
   "source": [
    "#creating new augmented image\n",
    "rotate_image(image,30)\n",
    "rotate_image(image,-30)\n",
    "sharpen_image(image)\n",
    "flip_image(image,0)\n",
    "flip_image(image,1)\n",
    "brightness(image, 100)\n",
    "brightness(image, 120)\n",
    "brightness(image, 130)\n",
    "brightness(image, 150)\n",
    "brightness(image, 100)\n",
    "brightness(image, 80)\n",
    "brightness(image, 50)"
   ]
  },
  {
   "cell_type": "code",
   "execution_count": 10,
   "metadata": {},
   "outputs": [],
   "source": [
    "image_file=r\"C:\\Users\\punee\\Desktop\\IMAGES\\2.jpg\"\n",
    "image=cv2.imread(image_file)\n",
    "resize_image(image,450,400)\n",
    "#creating new augmented image\n",
    "rotate_image(image,30)\n",
    "rotate_image(image,-30)\n",
    "sharpen_image(image)\n",
    "flip_image(image,0)\n",
    "flip_image(image,1)\n",
    "brightness(image, 100)\n",
    "brightness(image, 120)\n",
    "brightness(image, 130)\n",
    "brightness(image, 150)\n",
    "brightness(image, 100)\n",
    "brightness(image, 80)\n",
    "brightness(image, 50)"
   ]
  },
  {
   "cell_type": "code",
   "execution_count": 11,
   "metadata": {},
   "outputs": [],
   "source": [
    "image_file=r\"C:\\Users\\punee\\Desktop\\IMAGES\\3.jpg\"\n",
    "image=cv2.imread(image_file)\n",
    "resize_image(image,450,400)\n",
    "#creating new augmented image\n",
    "rotate_image(image,30)\n",
    "rotate_image(image,-30)\n",
    "sharpen_image(image)\n",
    "flip_image(image,0)\n",
    "flip_image(image,1)\n",
    "brightness(image, 100)\n",
    "brightness(image, 120)\n",
    "brightness(image, 130)\n",
    "brightness(image, 150)\n",
    "brightness(image, 100)\n",
    "brightness(image, 80)\n",
    "brightness(image, 50)"
   ]
  },
  {
   "cell_type": "code",
   "execution_count": 12,
   "metadata": {},
   "outputs": [],
   "source": [
    "image_file=r\"C:\\Users\\punee\\Desktop\\IMAGES\\4.jpg\"\n",
    "image=cv2.imread(image_file)\n",
    "resize_image(image,450,400)\n",
    "#creating new augmented image\n",
    "rotate_image(image,30)\n",
    "rotate_image(image,-30)\n",
    "sharpen_image(image)\n",
    "flip_image(image,0)\n",
    "flip_image(image,1)\n",
    "brightness(image, 100)\n",
    "brightness(image, 120)\n",
    "brightness(image, 130)\n",
    "brightness(image, 150)\n",
    "brightness(image, 100)\n",
    "brightness(image, 80)\n",
    "brightness(image, 50)"
   ]
  },
  {
   "cell_type": "code",
   "execution_count": 13,
   "metadata": {},
   "outputs": [],
   "source": [
    "image_file=r\"C:\\Users\\punee\\Desktop\\IMAGES\\5.jpg\"\n",
    "image=cv2.imread(image_file)\n",
    "resize_image(image,450,400)\n",
    "#creating new augmented image\n",
    "rotate_image(image,30)\n",
    "rotate_image(image,-30)\n",
    "sharpen_image(image)\n",
    "flip_image(image,0)\n",
    "flip_image(image,1)\n",
    "brightness(image, 100)\n",
    "brightness(image, 120)\n",
    "brightness(image, 130)\n",
    "brightness(image, 150)\n",
    "brightness(image, 100)\n",
    "brightness(image, 80)\n",
    "brightness(image, 50)"
   ]
  },
  {
   "cell_type": "markdown",
   "metadata": {},
   "source": [
    "### AUGMENTING THE SAREE IMAGES"
   ]
  },
  {
   "cell_type": "code",
   "execution_count": 15,
   "metadata": {},
   "outputs": [],
   "source": [
    "image_file=r\"C:\\Users\\punee\\Desktop\\IMAGES\\1.jpg\"\n",
    "image=cv2.imread(image_file)\n",
    "resize_image(image,450,400)\n",
    "#creating new augmented image\n",
    "rotate_image(image,30)\n",
    "rotate_image(image,-30)\n",
    "sharpen_image(image)\n",
    "flip_image(image,0)\n",
    "flip_image(image,1)\n",
    "brightness(image, 100)\n",
    "brightness(image, 120)\n",
    "brightness(image, 130)\n",
    "brightness(image, 150)\n",
    "brightness(image, 100)\n",
    "brightness(image, 80)\n",
    "brightness(image, 50)"
   ]
  },
  {
   "cell_type": "code",
   "execution_count": 17,
   "metadata": {},
   "outputs": [],
   "source": [
    "image_file=r\"C:\\Users\\punee\\Desktop\\IMAGES\\4.jpg\"\n",
    "image=cv2.imread(image_file)\n",
    "resize_image(image,450,400)\n",
    "#creating new augmented image\n",
    "rotate_image(image,30)\n",
    "rotate_image(image,-30)\n",
    "sharpen_image(image)\n",
    "flip_image(image,0)\n",
    "flip_image(image,1)\n",
    "brightness(image, 100)\n",
    "brightness(image, 120)\n",
    "brightness(image, 130)\n",
    "brightness(image, 150)\n",
    "brightness(image, 100)\n",
    "brightness(image, 80)\n",
    "brightness(image, 50)"
   ]
  },
  {
   "cell_type": "code",
   "execution_count": 18,
   "metadata": {},
   "outputs": [],
   "source": [
    "image_file=r\"C:\\Users\\punee\\Desktop\\IMAGES\\10.jpg\"\n",
    "image=cv2.imread(image_file)\n",
    "resize_image(image,450,400)\n",
    "#creating new augmented image\n",
    "rotate_image(image,30)\n",
    "rotate_image(image,-30)\n",
    "sharpen_image(image)\n",
    "flip_image(image,0)\n",
    "flip_image(image,1)\n",
    "brightness(image, 100)\n",
    "brightness(image, 120)\n",
    "brightness(image, 130)\n",
    "brightness(image, 150)\n",
    "brightness(image, 100)\n",
    "brightness(image, 80)\n",
    "brightness(image, 50)"
   ]
  },
  {
   "cell_type": "code",
   "execution_count": 19,
   "metadata": {},
   "outputs": [],
   "source": [
    "image_file=r\"C:\\Users\\punee\\Desktop\\IMAGES\\12.jpg\"\n",
    "image=cv2.imread(image_file)\n",
    "resize_image(image,450,400)\n",
    "#creating new augmented image\n",
    "rotate_image(image,30)\n",
    "rotate_image(image,-30)\n",
    "sharpen_image(image)\n",
    "flip_image(image,0)\n",
    "flip_image(image,1)\n",
    "brightness(image, 100)\n",
    "brightness(image, 120)\n",
    "brightness(image, 130)\n",
    "brightness(image, 150)\n",
    "brightness(image, 100)\n",
    "brightness(image, 80)\n",
    "brightness(image, 50)"
   ]
  },
  {
   "cell_type": "markdown",
   "metadata": {},
   "source": [
    "### AUGMENTING THE TROUSERS IMAGES"
   ]
  },
  {
   "cell_type": "code",
   "execution_count": 20,
   "metadata": {},
   "outputs": [],
   "source": [
    "image_file=r\"C:\\Users\\punee\\Desktop\\IMAGES\\2.jpg\"\n",
    "image=cv2.imread(image_file)\n",
    "resize_image(image,450,400)\n",
    "#creating new augmented image\n",
    "rotate_image(image,30)\n",
    "rotate_image(image,-30)\n",
    "sharpen_image(image)\n",
    "flip_image(image,0)\n",
    "flip_image(image,1)\n",
    "brightness(image, 100)\n",
    "brightness(image, 120)\n",
    "brightness(image, 130)\n",
    "brightness(image, 150)\n",
    "brightness(image, 100)\n",
    "brightness(image, 80)\n",
    "brightness(image, 50)"
   ]
  },
  {
   "cell_type": "code",
   "execution_count": 21,
   "metadata": {},
   "outputs": [],
   "source": [
    "image_file=r\"C:\\Users\\punee\\Desktop\\IMAGES\\3.jpg\"\n",
    "image=cv2.imread(image_file)\n",
    "resize_image(image,450,400)\n",
    "#creating new augmented image\n",
    "rotate_image(image,30)\n",
    "rotate_image(image,-30)\n",
    "sharpen_image(image)\n",
    "flip_image(image,0)\n",
    "flip_image(image,1)\n",
    "brightness(image, 100)\n",
    "brightness(image, 120)\n",
    "brightness(image, 130)\n",
    "brightness(image, 150)\n",
    "brightness(image, 100)\n",
    "brightness(image, 80)\n",
    "brightness(image, 50)"
   ]
  },
  {
   "cell_type": "code",
   "execution_count": 22,
   "metadata": {},
   "outputs": [],
   "source": [
    "image_file=r\"C:\\Users\\punee\\Desktop\\IMAGES\\4.jpg\"\n",
    "image=cv2.imread(image_file)\n",
    "resize_image(image,450,400)\n",
    "#creating new augmented image\n",
    "rotate_image(image,30)\n",
    "rotate_image(image,-30)\n",
    "sharpen_image(image)\n",
    "flip_image(image,0)\n",
    "flip_image(image,1)\n",
    "brightness(image, 100)\n",
    "brightness(image, 120)\n",
    "brightness(image, 130)\n",
    "brightness(image, 150)\n",
    "brightness(image, 100)\n",
    "brightness(image, 80)\n",
    "brightness(image, 50)"
   ]
  },
  {
   "cell_type": "code",
   "execution_count": 23,
   "metadata": {},
   "outputs": [],
   "source": [
    "image_file=r\"C:\\Users\\punee\\Desktop\\IMAGES\\5.jpg\"\n",
    "image=cv2.imread(image_file)\n",
    "resize_image(image,450,400)\n",
    "#creating new augmented image\n",
    "rotate_image(image,30)\n",
    "rotate_image(image,-30)\n",
    "sharpen_image(image)\n",
    "flip_image(image,0)\n",
    "flip_image(image,1)\n",
    "brightness(image, 100)\n",
    "brightness(image, 120)\n",
    "brightness(image, 130)\n",
    "brightness(image, 150)\n",
    "brightness(image, 100)\n",
    "brightness(image, 80)\n",
    "brightness(image, 50)"
   ]
  },
  {
   "cell_type": "code",
   "execution_count": 24,
   "metadata": {},
   "outputs": [],
   "source": [
    "image_file=r\"C:\\Users\\punee\\Desktop\\IMAGES\\7.jpg\"\n",
    "image=cv2.imread(image_file)\n",
    "resize_image(image,450,400)\n",
    "#creating new augmented image\n",
    "rotate_image(image,30)\n",
    "rotate_image(image,-30)\n",
    "sharpen_image(image)\n",
    "flip_image(image,0)\n",
    "flip_image(image,1)\n",
    "brightness(image, 100)\n",
    "brightness(image, 120)\n",
    "brightness(image, 130)\n",
    "brightness(image, 150)\n",
    "brightness(image, 100)\n",
    "brightness(image, 80)\n",
    "brightness(image, 50)"
   ]
  },
  {
   "cell_type": "code",
   "execution_count": null,
   "metadata": {},
   "outputs": [],
   "source": []
  }
 ],
 "metadata": {
  "kernelspec": {
   "display_name": "Python 3",
   "language": "python",
   "name": "python3"
  },
  "language_info": {
   "codemirror_mode": {
    "name": "ipython",
    "version": 3
   },
   "file_extension": ".py",
   "mimetype": "text/x-python",
   "name": "python",
   "nbconvert_exporter": "python",
   "pygments_lexer": "ipython3",
   "version": "3.7.7"
  }
 },
 "nbformat": 4,
 "nbformat_minor": 4
}
